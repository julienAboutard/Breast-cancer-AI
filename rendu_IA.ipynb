{
 "cells": [
  {
   "cell_type": "markdown",
   "id": "c216f51f",
   "metadata": {},
   "source": [
    "# 2. Évaluation du modèle développé par le consultant précédent\n",
    "### On dispose du code d'un consultant qui a travaillé avant nous sur le sujet en développant et en entraînant un premier modèle de prédiction."
   ]
  },
  {
   "cell_type": "code",
   "execution_count": 15,
   "id": "13e9b75d",
   "metadata": {},
   "outputs": [],
   "source": [
    "# Le consultant a d'abord fait les imports nécessaires :\n",
    "import pandas as pd\n",
    "from sklearn.model_selection import train_test_split\n",
    "from sklearn.preprocessing import StandardScaler\n",
    "from sklearn import tree\n",
    "from sklearn.metrics import accuracy_score"
   ]
  },
  {
   "cell_type": "code",
   "execution_count": 16,
   "id": "cec520de",
   "metadata": {
    "scrolled": true
   },
   "outputs": [],
   "source": [
    "# Le consultant a ensuite ouvert le fichier de données .csv :\n",
    "breast_cancer = pd.read_csv(\"breast_cancer.csv\")\n",
    "\n",
    "# Il a séparé les features de la target :\n",
    "features, target = breast_cancer.loc[:, 'radius_mean':'fractal_dimension_worst'], breast_cancer[\"diagnosis\"]\n",
    "\n",
    "# Il a splité le dataframe en 2 (en données d'entraînement et en données de test):\n",
    "# Il a choisi une test_size de 0,4 parce que l'échantillon est trop petit pour utiliser la séparation standard de 0,25.\n",
    "feat_train, feat_test, target_train, target_test = train_test_split(features, target, test_size = 0.4)\n",
    "\n",
    "# Il a standardisé les données :  \n",
    "scaler = StandardScaler()\n",
    "feat_train = scaler.fit_transform(feat_train)\n",
    "feat_test = scaler.transform(feat_test)"
   ]
  },
  {
   "cell_type": "markdown",
   "id": "4eef934d",
   "metadata": {},
   "source": [
    "#### En quoi consiste la standardisation des données? Pourquoi est-elle importante ici?\n",
    "La normalisation standard, aussi appelée standardisation, est un procédé de pré-traitement des données qui permet de\n",
    "redimensionner des variables numériques pour les rendre comparables sur une échelle commune sans en déformer les différences.\n",
    "La classe StandardScaler() de scikit-learn va recalculer chaque attribut afin que l'ensemble ait une moyenne égale à 0\n",
    "et un écart-type égal à 1.\n",
    "\n",
    "#### Expliquez à quoi sert le fait de séparer les données en données d'entraînement et en données de test.\n",
    "La méthode fit_transform() de la classe StandardScaler() est utilisée sur les données d'entraînement afin d'en tirer la moyenne et l'écart-type.\n",
    "Ces paramètres appris sont ensuite utilisés par la méthode transformer(), également de la classe StandardScaler(), pour mettre à l'échelle\n",
    "les données de test."
   ]
  },
  {
   "cell_type": "markdown",
   "id": "0f9b190b",
   "metadata": {},
   "source": [
    "## 2.1 Modèle original : Decision Tree"
   ]
  },
  {
   "cell_type": "code",
   "execution_count": 17,
   "id": "62066b4f",
   "metadata": {},
   "outputs": [],
   "source": [
    "# Le consultant a initalisé son modèle : \n",
    "tree_classif = tree.DecisionTreeClassifier()"
   ]
  },
  {
   "cell_type": "markdown",
   "id": "7fe68bbe",
   "metadata": {},
   "source": [
    "#### Expliquez simplement comment fonctionnent les arbres de décision.\n",
    "Les arbres de décision (Decision Tree) font partie de la catégorie des algorithmes d’apprentissage supervisés.\n",
    "Sous la forme graphique d’un arbre, on représente les résultats possibles d'une série de choix interconnectés.\n",
    "Les décisions prises sont situées aux extrémités des branches de l'arbre (ses feuilles) et sont atteintes en fonction de\n",
    "décisions prises à chaque étape précédente en appliquant de manière itérative des règles logiques très simples.\n",
    "L’algorithme est capable de tester chaque variable et d'utiliser une métrique pour sélectionner les variables discriminantes\n",
    "au sein de données brutes qui sont souvent non-structurées et volumineuses.\n",
    "Un arbre de décision modélise donc une hiérarchie de tests pour prédire un résultat : soit une catégorie (Classification Tree en classification)\n",
    "soit une valeur numérique (Regression Tree en prédiction).\n",
    "Les arbres de décision ont pour avantage d’être simples : nécessitant une préparation minimale des données, très rapides à entrainer,\n",
    "peu coûteux en temps de calcul et faciles à interpréter."
   ]
  },
  {
   "cell_type": "code",
   "execution_count": 18,
   "id": "ab089c9e",
   "metadata": {},
   "outputs": [],
   "source": [
    "# Le consultant a entraîné son modèle sur ses données d'entraînement :\n",
    "tree_classif.fit(feat_train, target_train)\n",
    "\n",
    "# Puis il l'a utilisé pour prédire sur les données de test :\n",
    "predict_class = tree_classif.predict(feat_test)"
   ]
  },
  {
   "cell_type": "code",
   "execution_count": 19,
   "id": "f6c7defe",
   "metadata": {},
   "outputs": [
    {
     "name": "stdout",
     "output_type": "stream",
     "text": [
      "model accuracy : 0.943\n"
     ]
    }
   ],
   "source": [
    "# Le consultant a enfin calculé l'accuracy de son modèle. On l'affiche ici en conservant 2 décimales : \n",
    "acc = accuracy_score(predict_class, target_test)\n",
    "print(f\"model accuracy : {round(acc,3)}\")"
   ]
  },
  {
   "cell_type": "markdown",
   "id": "963fa007",
   "metadata": {},
   "source": [
    "#### Quelles sont les limites de la métrique choisie pour évaluer le modèle?\n",
    "Pour évaluer son modèle de classification, le consultant a choisi comme métrique l'accuracy qui mesure la proportion de prédictions exactes.\n",
    "Le calcul établit le rapport entre le nombre de prédictions correctes (= vrais positifs + vrais négatifs) et\n",
    "le nombre total de prédictions, correctes ET incorrectes (= vrais positifs + faux positifs + vrais négatifs + faux positifs).\n",
    "C'est l'indicateur le plus simple de la performance d'un modèle de classification : une valeur unique, facile à calculer et à interpréter.\n",
    "L’accuracy présente cependant de fortes limites lorsque les données d'étude sont déséquilibrées, c'est-à-dire lorsqu’une des classes est\n",
    "largement plus fréquente que l’autre."
   ]
  },
  {
   "cell_type": "markdown",
   "id": "12f955b3",
   "metadata": {},
   "source": [
    "#### Pour le même modèle, sortez d'autres métriques d'évaluation en les commentant (précision, recall, F1 score, matrice de confusion...).\n",
    "Pour évaluer le modèle de classification du consultant, on aurait pu choisir d'autres métriques:\n",
    "\n",
    "- La precision, également appelée Positive Predictive Value, correspond au taux de prédictions correctes parmi les prédictions positives.\n",
    "Le calcul établit le rapport entre le nombre de positifs bien prédit (= vrais positifs) et le nombre total de positifs prédit\n",
    "(= vrais positifs + faux positifs).\n",
    "La precision mesure la capacité du modèle à ne pas faire d’erreur lors d’une prédiction positive.\n",
    "Plus la precision est élevée et plus le modèle minimise le nombre de faux positifs.\n",
    "\n",
    "- Le recall, également appelé Sensitivity, True Positive Rate ou encore Hit Rate, correspond au taux de prédictions positives correctes.\n",
    "Le calcul établit le rapport entre le nombre de positifs bien prédits (= vrais positifs) et le nombre total de positifs réel\n",
    "(= vrais positifs + faux négatifs).\n",
    "Le recall mesure la capacité du modèle à détecter l’ensemble des positifs. \n",
    "Plus le recall est élevé et plus le modèle maximise le nombre de vrais positifs.\n",
    "\n",
    "- Le F1-score mesure la capacité d’un modèle à bien prédire les positifs,\n",
    "tant en termes de precision (taux de prédictions positives correctes) qu’en termes de recall (taux de positifs correctement prédits).\n",
    "Le F1-score compare les prédictions positives correctes (= vrais positifs) aux erreurs faites par le modèle (= faux positifs + faux négatifs).\n",
    "Il correspond à la moyenne harmonique de la precision et du recall, qui doivent tous les 2 être élevés pour que le F1-score le soit aussi.\n",
    "Le F1-score a en commun avec l’accuracy de résumer la performance d’un modèle en un seul indicateur pour chaque seuil de classification.\n",
    "Il est plus complexe mais a l’avantage d’être robuste en présence de données déséquilibrées.\n",
    "\n",
    "- La matrice de confusion (Confusion Matrix) est le socle sur lequel s’appuient toutes les métriques de classification :\n",
    "accuracy, Précision-Recall, F1-score, ROC curve,...\n",
    "Dans le cas à 2 classes, la matrice de confusion est un tableau à 4 valeurs représentant les différentes combinaisons de valeurs réelles et\n",
    "de valeurs prédites et dépend d’un seuil de classification (Classification Threshold) pour traduire ces probabilités en labels.\n",
    "Pour un seuil faible, il y aura plus de prédictions positives que pour un seuil élevé.\n",
    "La précision de la matrice correspond au calcul du rapport entre le nombre de positifs et de négatifs bien prédits (= vrais positifs + vrais négatifs)\n",
    "et le nombre total de prédictions, correctes ET incorrectes (= vrais positifs + faux positifs + vrais négatifs + faux positifs)."
   ]
  },
  {
   "cell_type": "code",
   "execution_count": 20,
   "id": "076e1721",
   "metadata": {},
   "outputs": [
    {
     "name": "stdout",
     "output_type": "stream",
     "text": [
      "              precision    recall  f1-score   support\n",
      "\n",
      "           B       0.96      0.94      0.95       145\n",
      "           M       0.91      0.94      0.92        83\n",
      "\n",
      "    accuracy                           0.94       228\n",
      "   macro avg       0.94      0.94      0.94       228\n",
      "weighted avg       0.94      0.94      0.94       228\n",
      "\n"
     ]
    },
    {
     "data": {
      "image/png": "[encoded data removed]",
      "text/plain": [
       "<Figure size 432x288 with 2 Axes>"
      ]
     },
     "metadata": {
      "needs_background": "light"
     },
     "output_type": "display_data"
    }
   ],
   "source": [
    "# Nous faisons les imports supplémentaires nécessaires :\n",
    "from sklearn.metrics import confusion_matrix, classification_report\n",
    "import seaborn as sns\n",
    "\n",
    "# Pour évaluer ce modèle avec d'autres métriques, nous ajoutons des noms aux index et aux colonnes de la matrice de confusion :\n",
    "classes_names = ['Benign','Malignant']\n",
    "cm = pd.DataFrame(confusion_matrix(target_test, predict_class), \n",
    "                  columns=classes_names, index = classes_names)\n",
    "\n",
    "# Nous affichons une heatmap de seaborn pour visualiser la matrice de confusion :\n",
    "sns.heatmap(cm, annot=True, fmt='d')\n",
    "\n",
    "print(classification_report(target_test, predict_class))"
   ]
  },
  {
   "cell_type": "markdown",
   "id": "d7c9a02d",
   "metadata": {},
   "source": [
    "## 2.2 Modèle complémentaire  : Nearest Neighbors Classification"
   ]
  },
  {
   "cell_type": "code",
   "execution_count": 21,
   "id": "179938b7",
   "metadata": {},
   "outputs": [
    {
     "name": "stdout",
     "output_type": "stream",
     "text": [
      "model accuracy : 0.943\n",
      "              precision    recall  f1-score   support\n",
      "\n",
      "           B       0.92      1.00      0.96       145\n",
      "           M       1.00      0.84      0.92        83\n",
      "\n",
      "    accuracy                           0.94       228\n",
      "   macro avg       0.96      0.92      0.94       228\n",
      "weighted avg       0.95      0.94      0.94       228\n",
      "\n"
     ]
    },
    {
     "data": {
      "image/png": "[encoded data removed]",
      "text/plain": [
       "<Figure size 432x288 with 2 Axes>"
      ]
     },
     "metadata": {
      "needs_background": "light"
     },
     "output_type": "display_data"
    }
   ],
   "source": [
    "# Nous faisons les imports supplémentaires nécessaires :\n",
    "from sklearn.neighbors import KNeighborsClassifier\n",
    "import warnings\n",
    "\n",
    "# On ignore les warnings :\n",
    "warnings.simplefilter('ignore')\n",
    "\n",
    "# Nous initalisons ce nouveau modèle : \n",
    "neighbors_classif = KNeighborsClassifier(n_neighbors=2)\n",
    "\n",
    "# Nous entraînons ce modèle sur les données d'entraînement :\n",
    "neighbors_classif.fit(feat_train, target_train)\n",
    "\n",
    "# Puis nous l'utilisons pour prédire sur les données de test :\n",
    "predict_class = neighbors_classif.predict(feat_test)\n",
    "\n",
    "# Nous calculons l'accuracy de ce modèle. On l'affiche ici en conservant 2 décimales : \n",
    "acc = accuracy_score(predict_class, target_test)\n",
    "print(f\"model accuracy : {round(acc,3)}\")\n",
    "\n",
    "# Pour évaluer ce modèle avec d'autres métriques, nous ajoutons des noms aux index et aux colonnes de la matrice de confusion :\n",
    "classes_names = ['Benign','Malignant']\n",
    "cm = pd.DataFrame(confusion_matrix(target_test, predict_class), \n",
    "                  columns=classes_names, index = classes_names)\n",
    "\n",
    "# Nous affichons une heatmap de seaborn pour visualiser la matrice de confusion :\n",
    "sns.heatmap(cm, annot=True, fmt='d')\n",
    "\n",
    "print(classification_report(target_test, predict_class))"
   ]
  },
  {
   "cell_type": "markdown",
   "id": "f47465f0",
   "metadata": {},
   "source": [
    "Pour dix splits de notre dataframe de données, on obtient pour :  \n",
    "- arbre de décision acc = 0,934 / 0,877 / 0,93 / 0,904 / 0,93 / 0,895 / 0,921 / 0,912 / 0,925 / 0,864, soit _**0,909**_ en moyenne  \n",
    "- k plus proches voisins acc = 0,965 / 0,947 / 0,974 / 0,969 / 0,956 / 0,956 / 0,96 / 0,947 / 0,947 / 0,969 soit **_0,959_** en moyenne  \n",
    "\n",
    "On peut voir que pour ces données le modèle KNN est plus précis sur un plus grand nombre de tests et donc ce modèle est le plus adapté.  "
   ]
  },
  {
   "cell_type": "markdown",
   "id": "cdb45cbd",
   "metadata": {},
   "source": [
    "# 3. Entraînement d'un modèle concurrent  "
   ]
  },
  {
   "cell_type": "code",
   "execution_count": 22,
   "id": "1218987a",
   "metadata": {},
   "outputs": [],
   "source": [
    "# On fait les imports supplémentaires nécessaires :\n",
    "from sklearn.metrics import f1_score\n",
    "import matplotlib.pyplot as plt"
   ]
  },
  {
   "cell_type": "code",
   "execution_count": 23,
   "id": "95a1b47b",
   "metadata": {},
   "outputs": [],
   "source": [
    "# On développe un modèle concurrent en conservant plusieurs variables discriminantes :\n",
    "# On sépare les features du target :\n",
    "# En utilisant Les 8 variables discriminantes identifiées précédemment:\n",
    "#features, target = breast_cancer.loc[:, ['concave points_worst', 'concavity_worst', 'radius_mean', 'radius_worst', 'perimeter_mean', 'perimeter_worst', 'area_mean', 'area_worst']], breast_cancer[\"diagnosis\"]\n",
    "\n",
    "# En utilisant 5 des variables discriminantes identifiées précédemment:\n",
    "#features, target = breast_cancer.loc[:, ['concave points_worst', 'concavity_worst', 'radius_worst', 'perimeter_worst', 'area_worst']], breast_cancer[\"diagnosis\"]\n",
    "\n",
    "# En utilisant 3 des variables discriminantes identifiées précédemment:\n",
    "features, target = breast_cancer.loc[:, ['concave points_worst', 'radius_mean','perimeter_worst']], breast_cancer[\"diagnosis\"]\n",
    "\n",
    "# On split notre dataframe en 2 :\n",
    "feat_train, feat_test, target_train, target_test = train_test_split(features, target, test_size = 0.4)\n",
    "\n",
    "# On standardise les données :  \n",
    "scaler = StandardScaler()\n",
    "feat_train = scaler.fit_transform(feat_train)\n",
    "feat_test = scaler.transform(feat_test)"
   ]
  },
  {
   "cell_type": "markdown",
   "id": "498cf07c",
   "metadata": {},
   "source": [
    "## 3.1 Utilisation du modèle Nearest Neighbors Classification"
   ]
  },
  {
   "cell_type": "markdown",
   "id": "8b507bbc",
   "metadata": {},
   "source": [
    "Le modèle des k plus proches voisins (KNN ou K-NN) est un modèle supervisé.  \n",
    "Il utilise la proximité pour effectuer des classifications ou des prédictions.  \n",
    "Il est généralement utilisé comme algorithme de classification, en partant de l'hypothèse que des points similaires peuvent être trouvés les uns à côté des autres."
   ]
  },
  {
   "cell_type": "code",
   "execution_count": 24,
   "id": "04f11223",
   "metadata": {},
   "outputs": [
    {
     "data": {
      "image/png": "[encoded data removed]",
      "text/plain": [
       "<Figure size 432x432 with 1 Axes>"
      ]
     },
     "metadata": {
      "needs_background": "light"
     },
     "output_type": "display_data"
    }
   ],
   "source": [
    "f1s = []\n",
    "\n",
    "# On calcule le score f1 pour des valeurs de K entre 2 et 10 (inclus) :\n",
    "for i in range(2, 11):\n",
    "    knn = KNeighborsClassifier(n_neighbors=i)\n",
    "    knn.fit(feat_train, target_train)\n",
    "    pred_i = knn.predict(feat_test)\n",
    "    # On utilise average='weighted' pour calculer le \"weighted average\" pour nos 2 classes Bénin et Malin :\n",
    "    f1s.append(f1_score(target_test, pred_i, average='weighted'))\n",
    "\n",
    "plt.figure(figsize=(6, 6))\n",
    "plt.plot(range(2, 11), f1s, color='red', linestyle='dashed', marker='o',\n",
    "         markerfacecolor='blue', markersize=10)\n",
    "plt.title('F1 Score K Value')\n",
    "plt.xlabel('K Value')\n",
    "plt.ylabel('F1 Score')\n",
    "\n",
    "plt.show()"
   ]
  },
  {
   "cell_type": "code",
   "execution_count": 25,
   "id": "c71680cf",
   "metadata": {},
   "outputs": [
    {
     "name": "stdout",
     "output_type": "stream",
     "text": [
      "model accuracy : 0.939\n",
      "              precision    recall  f1-score   support\n",
      "\n",
      "           B       0.93      0.98      0.95       142\n",
      "           M       0.96      0.87      0.91        86\n",
      "\n",
      "    accuracy                           0.94       228\n",
      "   macro avg       0.94      0.93      0.93       228\n",
      "weighted avg       0.94      0.94      0.94       228\n",
      "\n"
     ]
    },
    {
     "data": {
      "image/png": "[encoded data removed]",
      "text/plain": [
       "<Figure size 432x288 with 2 Axes>"
      ]
     },
     "metadata": {
      "needs_background": "light"
     },
     "output_type": "display_data"
    }
   ],
   "source": [
    "# On initalise le modèle : \n",
    "neighbors_classif = KNeighborsClassifier(n_neighbors=2)\n",
    "\n",
    "# On l'entraîne sur nos données d'entraînement :\n",
    "neighbors_classif.fit(feat_train, target_train)\n",
    "\n",
    "# On l'utilise pour prédire sur les données de test :\n",
    "predict_class = neighbors_classif.predict(feat_test)\n",
    "\n",
    "# On calcule l'accuracy du modèle :  \n",
    "acc = accuracy_score(predict_class, target_test)\n",
    "print(f\"model accuracy : {round(acc,3)}\")\n",
    "\n",
    "# On ajoute des noms aux index et aux colonnes à la matrice de confusion\n",
    "classes_names = ['Benign','Malignant']\n",
    "cm = pd.DataFrame(confusion_matrix(target_test, predict_class), \n",
    "                  columns=classes_names, index = classes_names)\n",
    "\n",
    "# On affiche une heatmap de seaborn pour visualiser la matrice de confusion\n",
    "sns.heatmap(cm, annot=True, fmt='d')\n",
    "\n",
    "print(classification_report(target_test, predict_class))"
   ]
  },
  {
   "cell_type": "markdown",
   "id": "13b75b94",
   "metadata": {},
   "source": [
    "## 3.2 Utilisation du modèle Support Vector Machines"
   ]
  },
  {
   "cell_type": "markdown",
   "id": "03fba409",
   "metadata": {},
   "source": [
    "Le modèle Support Vector Machines (SVM) est un modèle d'apprentissage utilisé principalement en marchine learning pour faire de la classification.  \n",
    "Ce modèle sépare les données et crée des frontières afin de créer de groupes de données.  \n",
    "Il existe pour la fonction de décision du modèle différentes fonctions mathématiques (linéaire, non linéaire, polynomial, sigmoïde et fonction de base radiale)."
   ]
  },
  {
   "cell_type": "code",
   "execution_count": 26,
   "id": "9a9297c9",
   "metadata": {},
   "outputs": [],
   "source": [
    "# Nous faisons les imports supplémentaires nécessaires :\n",
    "from sklearn.svm import SVC"
   ]
  },
  {
   "cell_type": "code",
   "execution_count": 28,
   "id": "0100b502",
   "metadata": {},
   "outputs": [
    {
     "name": "stdout",
     "output_type": "stream",
     "text": [
      "model accuracy : 0.939\n",
      "              precision    recall  f1-score   support\n",
      "\n",
      "           B       0.96      0.94      0.95       142\n",
      "           M       0.90      0.94      0.92        86\n",
      "\n",
      "    accuracy                           0.94       228\n",
      "   macro avg       0.93      0.94      0.94       228\n",
      "weighted avg       0.94      0.94      0.94       228\n",
      "\n"
     ]
    },
    {
     "data": {
      "image/png": "[encoded data removed]",
      "text/plain": [
       "<Figure size 432x288 with 2 Axes>"
      ]
     },
     "metadata": {
      "needs_background": "light"
     },
     "output_type": "display_data"
    }
   ],
   "source": [
    "# On initalise le modèle : \n",
    "classifier = SVC(kernel = 'linear', random_state = 0)\n",
    "\n",
    "# On l'entraîne sur nos données d'entraînement :\n",
    "classifier.fit(feat_train, target_train)\n",
    "\n",
    "# On l'utilise pour prédire sur les données de test :\n",
    "predict_class = classifier.predict(feat_test)\n",
    "\n",
    "# On calcule l'accuracy du modèle :  \n",
    "acc = accuracy_score(predict_class, target_test)\n",
    "print(f\"model accuracy : {round(acc,3)}\")\n",
    "\n",
    "# On ajoute des noms aux index et aux colonnes à la matrice de confusion\n",
    "classes_names = ['Benign','Malignant']\n",
    "cm = pd.DataFrame(confusion_matrix(target_test, predict_class), \n",
    "                  columns=classes_names, index = classes_names)\n",
    "\n",
    "# On affiche une heatmap de seaborn pour visualiser la matrice de confusion\n",
    "sns.heatmap(cm, annot=True, fmt='d')\n",
    "\n",
    "print(classification_report(target_test, predict_class))"
   ]
  },
  {
   "cell_type": "code",
   "execution_count": null,
   "id": "ebce4414",
   "metadata": {},
   "outputs": [],
   "source": []
  }
 ],
 "metadata": {
  "kernelspec": {
   "display_name": "Python 3 (ipykernel)",
   "language": "python",
   "name": "python3"
  },
  "language_info": {
   "codemirror_mode": {
    "name": "ipython",
    "version": 3
   },
   "file_extension": ".py",
   "mimetype": "text/x-python",
   "name": "python",
   "nbconvert_exporter": "python",
   "pygments_lexer": "ipython3",
   "version": "3.9.12"
  }
 },
 "nbformat": 4,
 "nbformat_minor": 5
}
